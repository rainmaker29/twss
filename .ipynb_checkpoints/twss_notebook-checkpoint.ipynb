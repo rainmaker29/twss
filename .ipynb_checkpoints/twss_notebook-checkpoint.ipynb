{
 "cells": [
  {
   "cell_type": "code",
   "execution_count": 7,
   "metadata": {},
   "outputs": [],
   "source": [
    "import pandas as pd\n",
    "import numpy as np\n",
    "import seaborn as sns\n"
   ]
  },
  {
   "cell_type": "code",
   "execution_count": 8,
   "metadata": {},
   "outputs": [
    {
     "data": {
      "text/html": [
       "<div>\n",
       "<style scoped>\n",
       "    .dataframe tbody tr th:only-of-type {\n",
       "        vertical-align: middle;\n",
       "    }\n",
       "\n",
       "    .dataframe tbody tr th {\n",
       "        vertical-align: top;\n",
       "    }\n",
       "\n",
       "    .dataframe thead th {\n",
       "        text-align: right;\n",
       "    }\n",
       "</style>\n",
       "<table border=\"1\" class=\"dataframe\">\n",
       "  <thead>\n",
       "    <tr style=\"text-align: right;\">\n",
       "      <th></th>\n",
       "      <th>text</th>\n",
       "    </tr>\n",
       "  </thead>\n",
       "  <tbody>\n",
       "    <tr>\n",
       "      <th>0</th>\n",
       "      <td>I downloaded an application for my phone that ...</td>\n",
       "    </tr>\n",
       "    <tr>\n",
       "      <th>1</th>\n",
       "      <td>My girlfriend said \"It's funny how every time ...</td>\n",
       "    </tr>\n",
       "    <tr>\n",
       "      <th>2</th>\n",
       "      <td>My girlfriend told me she was bored. During sex.</td>\n",
       "    </tr>\n",
       "    <tr>\n",
       "      <th>3</th>\n",
       "      <td>I have a condition that, when I pull my foresk...</td>\n",
       "    </tr>\n",
       "    <tr>\n",
       "      <th>4</th>\n",
       "      <td>My boyfriend decided to give me a hickey. Too ...</td>\n",
       "    </tr>\n",
       "  </tbody>\n",
       "</table>\n",
       "</div>"
      ],
      "text/plain": [
       "                                                text\n",
       "0  I downloaded an application for my phone that ...\n",
       "1  My girlfriend said \"It's funny how every time ...\n",
       "2  My girlfriend told me she was bored. During sex. \n",
       "3  I have a condition that, when I pull my foresk...\n",
       "4  My boyfriend decided to give me a hickey. Too ..."
      ]
     },
     "execution_count": 8,
     "metadata": {},
     "output_type": "execute_result"
    }
   ],
   "source": [
    "fml = pd.read_csv('data/fml.txt',sep=\"\\n\",header=None)\n",
    "fml.columns=['text']\n",
    "fml.head()"
   ]
  },
  {
   "cell_type": "code",
   "execution_count": 10,
   "metadata": {},
   "outputs": [
    {
     "data": {
      "text/html": [
       "<div>\n",
       "<style scoped>\n",
       "    .dataframe tbody tr th:only-of-type {\n",
       "        vertical-align: middle;\n",
       "    }\n",
       "\n",
       "    .dataframe tbody tr th {\n",
       "        vertical-align: top;\n",
       "    }\n",
       "\n",
       "    .dataframe thead th {\n",
       "        text-align: right;\n",
       "    }\n",
       "</style>\n",
       "<table border=\"1\" class=\"dataframe\">\n",
       "  <thead>\n",
       "    <tr style=\"text-align: right;\">\n",
       "      <th></th>\n",
       "      <th>text</th>\n",
       "    </tr>\n",
       "  </thead>\n",
       "  <tbody>\n",
       "    <tr>\n",
       "      <th>0</th>\n",
       "      <td>she pulled the sheets over her head to blow me...</td>\n",
       "    </tr>\n",
       "    <tr>\n",
       "      <th>1</th>\n",
       "      <td>He just ordered a bottle of Beam at an Italian...</td>\n",
       "    </tr>\n",
       "    <tr>\n",
       "      <th>2</th>\n",
       "      <td>Well if my looks don't work with her I'll eat ...</td>\n",
       "    </tr>\n",
       "    <tr>\n",
       "      <th>3</th>\n",
       "      <td>If you don't remember anything tomorrow, this ...</td>\n",
       "    </tr>\n",
       "    <tr>\n",
       "      <th>4</th>\n",
       "      <td>We decided to cut you off after you insisted o...</td>\n",
       "    </tr>\n",
       "  </tbody>\n",
       "</table>\n",
       "</div>"
      ],
      "text/plain": [
       "                                                text\n",
       "0  she pulled the sheets over her head to blow me...\n",
       "1  He just ordered a bottle of Beam at an Italian...\n",
       "2  Well if my looks don't work with her I'll eat ...\n",
       "3  If you don't remember anything tomorrow, this ...\n",
       "4  We decided to cut you off after you insisted o..."
      ]
     },
     "execution_count": 10,
     "metadata": {},
     "output_type": "execute_result"
    }
   ],
   "source": [
    "tfln = pd.read_csv('data/tfln.onesent.txt',sep=\"\\n\",header=None,encoding='latin')\n",
    "tfln.columns=['text']\n",
    "tfln.head()"
   ]
  },
  {
   "cell_type": "code",
   "execution_count": 12,
   "metadata": {},
   "outputs": [
    {
     "name": "stderr",
     "output_type": "stream",
     "text": [
      "b'Skipping line 580: expected 1 fields, saw 2\\nSkipping line 627: expected 1 fields, saw 2\\nSkipping line 639: expected 1 fields, saw 2\\nSkipping line 646: expected 1 fields, saw 2\\nSkipping line 650: expected 1 fields, saw 2\\nSkipping line 651: expected 1 fields, saw 3\\nSkipping line 733: expected 1 fields, saw 6\\nSkipping line 790: expected 1 fields, saw 2\\nSkipping line 837: expected 1 fields, saw 4\\nSkipping line 851: expected 1 fields, saw 2\\nSkipping line 920: expected 1 fields, saw 3\\nSkipping line 977: expected 1 fields, saw 2\\nSkipping line 989: expected 1 fields, saw 2\\nSkipping line 1245: expected 1 fields, saw 2\\nSkipping line 1626: expected 1 fields, saw 3\\nSkipping line 1796: expected 1 fields, saw 2\\nSkipping line 1831: expected 1 fields, saw 3\\nSkipping line 2021: expected 1 fields, saw 2\\nSkipping line 2125: expected 1 fields, saw 2\\nSkipping line 2206: expected 1 fields, saw 2\\nSkipping line 2211: expected 1 fields, saw 2\\nSkipping line 2624: expected 1 fields, saw 2\\nSkipping line 2726: expected 1 fields, saw 2\\nSkipping line 2743: expected 1 fields, saw 2\\nSkipping line 2871: expected 1 fields, saw 2\\nSkipping line 2894: expected 1 fields, saw 2\\nSkipping line 2898: expected 1 fields, saw 2\\nSkipping line 2937: expected 1 fields, saw 2\\nSkipping line 3065: expected 1 fields, saw 4\\nSkipping line 3157: expected 1 fields, saw 2\\nSkipping line 3159: expected 1 fields, saw 2\\nSkipping line 3237: expected 1 fields, saw 3\\nSkipping line 3274: expected 1 fields, saw 3\\nSkipping line 3336: expected 1 fields, saw 4\\nSkipping line 3337: expected 1 fields, saw 6\\nSkipping line 3372: expected 1 fields, saw 2\\nSkipping line 3375: expected 1 fields, saw 2\\nSkipping line 3440: expected 1 fields, saw 2\\nSkipping line 3467: expected 1 fields, saw 3\\nSkipping line 3509: expected 1 fields, saw 3\\nSkipping line 3517: expected 1 fields, saw 6\\nSkipping line 3528: expected 1 fields, saw 2\\nSkipping line 3573: expected 1 fields, saw 2\\nSkipping line 3579: expected 1 fields, saw 2\\nSkipping line 3581: expected 1 fields, saw 2\\nSkipping line 3600: expected 1 fields, saw 2\\nSkipping line 3608: expected 1 fields, saw 2\\nSkipping line 3662: expected 1 fields, saw 2\\nSkipping line 3782: expected 1 fields, saw 3\\nSkipping line 4083: expected 1 fields, saw 2\\n'\n"
     ]
    },
    {
     "data": {
      "text/html": [
       "<div>\n",
       "<style scoped>\n",
       "    .dataframe tbody tr th:only-of-type {\n",
       "        vertical-align: middle;\n",
       "    }\n",
       "\n",
       "    .dataframe tbody tr th {\n",
       "        vertical-align: top;\n",
       "    }\n",
       "\n",
       "    .dataframe thead th {\n",
       "        text-align: right;\n",
       "    }\n",
       "</style>\n",
       "<table border=\"1\" class=\"dataframe\">\n",
       "  <thead>\n",
       "    <tr style=\"text-align: right;\">\n",
       "      <th></th>\n",
       "      <th>text</th>\n",
       "    </tr>\n",
       "  </thead>\n",
       "  <tbody>\n",
       "    <tr>\n",
       "      <th>0</th>\n",
       "      <td>We have too many high sounding words, and too ...</td>\n",
       "    </tr>\n",
       "    <tr>\n",
       "      <th>1</th>\n",
       "      <td>The reins of government have been so long slac...</td>\n",
       "    </tr>\n",
       "    <tr>\n",
       "      <th>2</th>\n",
       "      <td>Shall we be despised by foreign powers for hes...</td>\n",
       "    </tr>\n",
       "    <tr>\n",
       "      <th>3</th>\n",
       "      <td>Deliver me from your cold phlegmatic preachers...</td>\n",
       "    </tr>\n",
       "    <tr>\n",
       "      <th>4</th>\n",
       "      <td>I regret the narrow contracted education of th...</td>\n",
       "    </tr>\n",
       "  </tbody>\n",
       "</table>\n",
       "</div>"
      ],
      "text/plain": [
       "                                                text\n",
       "0  We have too many high sounding words, and too ...\n",
       "1  The reins of government have been so long slac...\n",
       "2  Shall we be despised by foreign powers for hes...\n",
       "3  Deliver me from your cold phlegmatic preachers...\n",
       "4  I regret the narrow contracted education of th..."
      ]
     },
     "execution_count": 12,
     "metadata": {},
     "output_type": "execute_result"
    }
   ],
   "source": [
    "usa = pd.read_csv('data/usaquotes.txt',sep=\"\\n\",header=None,error_bad_lines=False)\n",
    "usa.columns = ['text']\n",
    "usa.head()"
   ]
  },
  {
   "cell_type": "code",
   "execution_count": 14,
   "metadata": {},
   "outputs": [
    {
     "data": {
      "text/html": [
       "<div>\n",
       "<style scoped>\n",
       "    .dataframe tbody tr th:only-of-type {\n",
       "        vertical-align: middle;\n",
       "    }\n",
       "\n",
       "    .dataframe tbody tr th {\n",
       "        vertical-align: top;\n",
       "    }\n",
       "\n",
       "    .dataframe thead th {\n",
       "        text-align: right;\n",
       "    }\n",
       "</style>\n",
       "<table border=\"1\" class=\"dataframe\">\n",
       "  <thead>\n",
       "    <tr style=\"text-align: right;\">\n",
       "      <th></th>\n",
       "      <th>text</th>\n",
       "    </tr>\n",
       "  </thead>\n",
       "  <tbody>\n",
       "    <tr>\n",
       "      <th>0</th>\n",
       "      <td>Put it back in, it's still moist in the middle.</td>\n",
       "    </tr>\n",
       "    <tr>\n",
       "      <th>1</th>\n",
       "      <td>Now if I can just get it in the hole, I'll sho...</td>\n",
       "    </tr>\n",
       "    <tr>\n",
       "      <th>2</th>\n",
       "      <td>...a great penetration!</td>\n",
       "    </tr>\n",
       "    <tr>\n",
       "      <th>3</th>\n",
       "      <td>That just kind of squirted out there, didn't it!</td>\n",
       "    </tr>\n",
       "    <tr>\n",
       "      <th>4</th>\n",
       "      <td>Oh it feels so good, you just insert here and ...</td>\n",
       "    </tr>\n",
       "  </tbody>\n",
       "</table>\n",
       "</div>"
      ],
      "text/plain": [
       "                                                text\n",
       "0    Put it back in, it's still moist in the middle.\n",
       "1  Now if I can just get it in the hole, I'll sho...\n",
       "2                            ...a great penetration!\n",
       "3   That just kind of squirted out there, didn't it!\n",
       "4  Oh it feels so good, you just insert here and ..."
      ]
     },
     "execution_count": 14,
     "metadata": {},
     "output_type": "execute_result"
    }
   ],
   "source": [
    "twss = pd.read_csv('data/twssstories.txt',sep=\"\\n\",header=None,encoding='latin')\n",
    "twss.columns=['text']\n",
    "twss.head()"
   ]
  },
  {
   "cell_type": "code",
   "execution_count": 16,
   "metadata": {},
   "outputs": [
    {
     "name": "stdout",
     "output_type": "stream",
     "text": [
      "fml :  1767\n",
      "tfln :  11869\n",
      "usa :  4066\n",
      "twss :  2027\n"
     ]
    }
   ],
   "source": [
    "print(\"fml : \",len(fml))\n",
    "print(\"tfln : \",len(tfln))\n",
    "print(\"usa : \",len(usa))\n",
    "print(\"twss : \",len(twss))"
   ]
  },
  {
   "cell_type": "code",
   "execution_count": 17,
   "metadata": {},
   "outputs": [
    {
     "data": {
      "text/html": [
       "<div>\n",
       "<style scoped>\n",
       "    .dataframe tbody tr th:only-of-type {\n",
       "        vertical-align: middle;\n",
       "    }\n",
       "\n",
       "    .dataframe tbody tr th {\n",
       "        vertical-align: top;\n",
       "    }\n",
       "\n",
       "    .dataframe thead th {\n",
       "        text-align: right;\n",
       "    }\n",
       "</style>\n",
       "<table border=\"1\" class=\"dataframe\">\n",
       "  <thead>\n",
       "    <tr style=\"text-align: right;\">\n",
       "      <th></th>\n",
       "      <th>text</th>\n",
       "      <th>target</th>\n",
       "    </tr>\n",
       "  </thead>\n",
       "  <tbody>\n",
       "    <tr>\n",
       "      <th>0</th>\n",
       "      <td>Put it back in, it's still moist in the middle.</td>\n",
       "      <td>1</td>\n",
       "    </tr>\n",
       "    <tr>\n",
       "      <th>1</th>\n",
       "      <td>Now if I can just get it in the hole, I'll sho...</td>\n",
       "      <td>1</td>\n",
       "    </tr>\n",
       "    <tr>\n",
       "      <th>2</th>\n",
       "      <td>...a great penetration!</td>\n",
       "      <td>1</td>\n",
       "    </tr>\n",
       "    <tr>\n",
       "      <th>3</th>\n",
       "      <td>That just kind of squirted out there, didn't it!</td>\n",
       "      <td>1</td>\n",
       "    </tr>\n",
       "    <tr>\n",
       "      <th>4</th>\n",
       "      <td>Oh it feels so good, you just insert here and ...</td>\n",
       "      <td>1</td>\n",
       "    </tr>\n",
       "  </tbody>\n",
       "</table>\n",
       "</div>"
      ],
      "text/plain": [
       "                                                text  target\n",
       "0    Put it back in, it's still moist in the middle.       1\n",
       "1  Now if I can just get it in the hole, I'll sho...       1\n",
       "2                            ...a great penetration!       1\n",
       "3   That just kind of squirted out there, didn't it!       1\n",
       "4  Oh it feels so good, you just insert here and ...       1"
      ]
     },
     "execution_count": 17,
     "metadata": {},
     "output_type": "execute_result"
    }
   ],
   "source": [
    "twss['target'] = [1]*2027\n",
    "twss.head()"
   ]
  },
  {
   "cell_type": "code",
   "execution_count": null,
   "metadata": {},
   "outputs": [],
   "source": []
  },
  {
   "cell_type": "code",
   "execution_count": null,
   "metadata": {},
   "outputs": [],
   "source": []
  }
 ],
 "metadata": {
  "kernelspec": {
   "display_name": "Python 3",
   "language": "python",
   "name": "python3"
  },
  "language_info": {
   "codemirror_mode": {
    "name": "ipython",
    "version": 3
   },
   "file_extension": ".py",
   "mimetype": "text/x-python",
   "name": "python",
   "nbconvert_exporter": "python",
   "pygments_lexer": "ipython3",
   "version": "3.6.9"
  }
 },
 "nbformat": 4,
 "nbformat_minor": 2
}
